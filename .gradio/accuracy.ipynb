{
 "cells": [
  {
   "metadata": {
    "ExecuteTime": {
     "end_time": "2025-07-12T15:28:35.782915Z",
     "start_time": "2025-07-12T15:28:35.674384Z"
    }
   },
   "cell_type": "code",
   "source": "from sklearn.metrics import precision_score, recall_score, f1_score\n",
   "id": "e56582dac02c52a2",
   "outputs": [],
   "execution_count": 1
  },
  {
   "metadata": {
    "ExecuteTime": {
     "end_time": "2025-07-12T15:28:49.211670Z",
     "start_time": "2025-07-12T15:28:49.207413Z"
    }
   },
   "cell_type": "code",
   "source": [
    "def precision_recall_f1_at_k(y_true, y_pred, k):\n",
    "    precisions = []\n",
    "    recalls = []\n",
    "    f1s = []\n"
   ],
   "id": "ffad7f12015c6b59",
   "outputs": [],
   "execution_count": 2
  },
  {
   "metadata": {
    "ExecuteTime": {
     "end_time": "2025-07-12T16:01:28.817111Z",
     "start_time": "2025-07-12T16:01:28.811102Z"
    }
   },
   "cell_type": "code",
   "source": [
    "def precision_recall_f1_at_k(y_true, y_pred, k):\n",
    "    precisions = []\n",
    "    recalls = []\n",
    "    f1s = []\n",
    "    for true_items, pred_items in zip(y_true, y_pred):\n",
    "        pred_k = pred_items[:k]\n",
    "        tp = len(set(true_items) & set(pred_k))\n",
    "        precision = tp / len(pred_k) if pred_k else 0\n",
    "        recall = tp / len(true_items) if true_items else 0\n",
    "        f1 = 2 * precision * recall / (precision + recall) if (precision + recall) else 0\n",
    "        precisions.append(precision)\n",
    "        recalls.append(recall)\n",
    "        f1s.append(f1)\n",
    "    return {\n",
    "        \"precision@k\": sum(precisions)/len(precisions),\n",
    "        \"recall@k\":    sum(recalls)/len(recalls),\n",
    "        \"f1@k\":        sum(f1s)/len(f1s)\n",
    "    }"
   ],
   "id": "2706c6d83bf4c3b7",
   "outputs": [],
   "execution_count": 21
  },
  {
   "metadata": {
    "ExecuteTime": {
     "end_time": "2025-07-12T16:03:48.610742Z",
     "start_time": "2025-07-12T16:03:48.586448Z"
    }
   },
   "cell_type": "code",
   "source": [
    "y_true = [\n",
    "    ['bookA', 'bookB', 'bookC'],\n",
    "    ['bookX'],\n",
    "]\n",
    "y_pred = [\n",
    "    ['bookA', 'bookD', 'bookB'],\n",
    "    ['bookY', 'bookZ', 'bookX'],\n",
    "]\n",
    "\n",
    "metrics = precision_recall_f1_at_k(y_true, y_pred, k=3)\n",
    "for name, val in metrics.items():\n",
    "    print(f\"{name}: {val:.3f}\")"
   ],
   "id": "d98d16471bcef0e6",
   "outputs": [
    {
     "name": "stdout",
     "output_type": "stream",
     "text": [
      "precision@k: 0.500\n",
      "recall@k: 0.833\n",
      "f1@k: 0.583\n"
     ]
    }
   ],
   "execution_count": 24
  }
 ],
 "metadata": {},
 "nbformat": 4,
 "nbformat_minor": 5
}
